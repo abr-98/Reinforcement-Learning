{
  "nbformat": 4,
  "nbformat_minor": 0,
  "metadata": {
    "colab": {
      "name": "Model Based Value Function Estimation.ipynb",
      "provenance": []
    },
    "kernelspec": {
      "name": "python3",
      "display_name": "Python 3"
    },
    "language_info": {
      "name": "python"
    }
  },
  "cells": [
    {
      "cell_type": "markdown",
      "metadata": {
        "id": "5jZHnb7i_dfs"
      },
      "source": [
        "### Problem"
      ]
    },
    {
      "cell_type": "code",
      "metadata": {
        "id": "cJNJ1gDR_pcm"
      },
      "source": [
        "import matplotlib.pyplot as plt\n",
        "import cv2"
      ],
      "execution_count": 2,
      "outputs": []
    },
    {
      "cell_type": "code",
      "metadata": {
        "colab": {
          "base_uri": "https://localhost:8080/",
          "height": 269
        },
        "id": "yN7loyT1_gS2",
        "outputId": "bffc7c1d-1b89-4ba4-9421-f76f6a31e2c0"
      },
      "source": [
        "img=cv2.imread(\"new_mrp.png\")\n",
        "plt.imshow(img)\n",
        "plt.show()"
      ],
      "execution_count": 4,
      "outputs": [
        {
          "output_type": "display_data",
          "data": {
            "image/png": "[encoded data removed]",
            "text/plain": [
              "<Figure size 432x288 with 1 Axes>"
            ]
          },
          "metadata": {
            "tags": [],
            "needs_background": "light"
          }
        }
      ]
    },
    {
      "cell_type": "markdown",
      "metadata": {
        "id": "PPLKbTlvc1Kf"
      },
      "source": [
        "### Analytic Method"
      ]
    },
    {
      "cell_type": "code",
      "metadata": {
        "id": "wAuFOKSEd_dX"
      },
      "source": [
        "import numpy as np\n",
        "import tensorflow as tf"
      ],
      "execution_count": 1,
      "outputs": []
    },
    {
      "cell_type": "code",
      "metadata": {
        "id": "rep8w9nZd1Wn"
      },
      "source": [
        "### Analytic soln is given as:\n",
        "\n",
        "### V= R + gamma*P*V\n",
        "### V-gamma*P*V = R\n",
        "### V(I-gamma*P) = R      ### I is the identity matrix of dimension of P\n",
        "### V = R / (I - gamma*P)\n",
        "\n",
        "### Coding approach: V = (Inverse(I - gamma*P))*R"
      ],
      "execution_count": 2,
      "outputs": []
    },
    {
      "cell_type": "code",
      "metadata": {
        "id": "rPsb8FRWcvG8"
      },
      "source": [
        "def get_analytic_soln(Transition_Matrix, Reward_Matrix, Gamma):\n",
        "\n",
        "  Identity=np.identity(Transition_Matrix.shape[0])\n",
        "  ### Initializes an identity martrix of dimension N x N where N is the number of states.\n",
        "\n",
        "  Value_func= np.matmul(np.matrix(Identity - Gamma*Transition_Matrix).I,R)\n",
        "  ###Value function calculated.\n",
        "\n",
        "  print(\"Value\")\n",
        "  print(Value_func)\n"
      ],
      "execution_count": 5,
      "outputs": []
    },
    {
      "cell_type": "code",
      "metadata": {
        "colab": {
          "base_uri": "https://localhost:8080/"
        },
        "id": "0l3fdk8Wf_m5",
        "outputId": "2271e46a-08b6-4e41-c229-545d6a9d7420"
      },
      "source": [
        "Ptr=np.array([\n",
        "    [0.3,0.5,0.2],\n",
        "    [0.1,0.7,0.2],\n",
        "    [0.4,0.3,0.3]\n",
        "])                ### Transition Matrix\n",
        "R=np.array([\n",
        "    [-1],\n",
        "    [5],\n",
        "    [-2]\n",
        "])                ### Reward Matrix\n",
        "\n",
        "gamma=0.9         ### Gamma: Discount factor\n",
        "\n",
        "get_analytic_soln(Ptr,R,gamma)"
      ],
      "execution_count": 6,
      "outputs": [
        {
          "output_type": "stream",
          "text": [
            "Value\n",
            "[[18.34360761]\n",
            " [25.66068078]\n",
            " [15.79737336]]\n"
          ],
          "name": "stdout"
        }
      ]
    },
    {
      "cell_type": "markdown",
      "metadata": {
        "id": "zZDRF03ggbIb"
      },
      "source": [
        "### Dynamic Programming Solution"
      ]
    },
    {
      "cell_type": "code",
      "metadata": {
        "id": "_rpR4C32gTh4"
      },
      "source": [
        "### Bellman Operator\n",
        "\n",
        "### V' = R + gamma*P*V\n",
        "\n",
        "### It is given by: B(V). B is the bellman operator\n",
        "\n",
        "### Bellman operator is a contracting operator. So, Bellman operator guarantees convergence of the parameters passed. \n",
        "\n",
        "### The discount factor gamma gives the importance of the future and the present rewards. It slowly fades\n",
        "### the rewards of a further timestep, so we do not face a infinite horizon problem\n",
        "\n",
        "### gamma= 0.9 means we consider next 50 time steps\n",
        "### gamma= 0.99 means we consider next 10 time steps.\n",
        "\n",
        "### By definition, Value Function (V) is given by: The discounted expected sum of returns\n",
        "\n",
        "### V(s)= E [ R_t + gamma*R_t+1 + gamma^2*R_t+2...........]\n",
        "\n",
        "### So, for expectation: \n",
        "\n",
        "### V(S)= R_t + P(S1)*gamma*R_t+1+ P(S2)*gamma*R_t+1 +..............\n",
        "\n",
        "### When we unroll the equation we will obtain the form.\n",
        "\n",
        "### As it is the unrolling form, it is called the dynamic programming approach."
      ],
      "execution_count": 9,
      "outputs": []
    },
    {
      "cell_type": "code",
      "metadata": {
        "id": "oVdoxq586IYA"
      },
      "source": [
        "\"\"\"\n",
        "[0.3,0.5,0.2] * [0]     [0]         [-1]      [-1] \n",
        "[0.1,0.7,0.2]   [0]  =  [0] * 0.9 + [5]    =  [5]    \n",
        "[0.4,0.3,0.3]   [0]     [0]         [2]       [2]  \n",
        "\n",
        "Value updated after iteration 1\n",
        "\n",
        "[0.3,0.5,0.2]   [-1]    [2.6]            [2.3]     [-1]     [1.3]\n",
        "[0.1,0.7,0.2] * [5] =   [3.8]  *  0.9 =  [3.4]  +  [5]   =  [8.4]\n",
        "[0.4,0.3,0.3]   [2]     [1.7]            [1.5]     [2]      [3.5]\n",
        "\n",
        "Value updated after iteration 2\n",
        "\n",
        "\"\"\""
      ],
      "execution_count": null,
      "outputs": []
    },
    {
      "cell_type": "code",
      "metadata": {
        "id": "ra3s1Wp9totf"
      },
      "source": [
        "def dynamic_prog_soln(Transition_Matrix, Rewards_Matrix, gamma, epsilon):\n",
        "\n",
        "  #### Epsilon judges the convergence\n",
        "  #### If the L2 Norm of the differnce of the Value function at time step t-1 and t is not \n",
        "  #### more than the value epsilon, convergence is said to have been achieved.\n",
        "\n",
        "  V_current=np.zeros((Transition_Matrix.shape[0],1))\n",
        "  V_previous=np.ones((Transition_Matrix.shape[0],1))\n",
        "\n",
        "  ### Initializing the value functions of two time steps to condition convergence.\n",
        "\n",
        "  while np.sqrt(np.square(sum(V_current-V_previous)))>epsilon:   ### Checking convergence\n",
        "\n",
        "    V_previous=V_current ###  Updating Previous value function\n",
        "\n",
        "    V_current= Rewards_Matrix + gamma*np.matmul(Transition_Matrix,V_current)\n",
        "    #### Updating the current value function.\n",
        "\n",
        "  print(\"Value Function\")\n",
        "  print(V_current)\n",
        "  "
      ],
      "execution_count": 13,
      "outputs": []
    },
    {
      "cell_type": "code",
      "metadata": {
        "colab": {
          "base_uri": "https://localhost:8080/"
        },
        "id": "s_LEL8Ym5-KS",
        "outputId": "0d15c536-0f7c-40ab-987a-cc35db32a547"
      },
      "source": [
        "Ptr=np.array([\n",
        "    [0.3,0.5,0.2],\n",
        "    [0.1,0.7,0.2],\n",
        "    [0.4,0.3,0.3]\n",
        "])                ### Transition Matrix\n",
        "R=np.array([\n",
        "    [-1],\n",
        "    [5],\n",
        "    [-2]\n",
        "])                ### Reward Matrix\n",
        "\n",
        "gamma=0.9         ### Gamma: Discount factor\n",
        "\n",
        "epsilon=0.001\n",
        "\n",
        "dynamic_prog_soln(Ptr,R,gamma,epsilon)\n"
      ],
      "execution_count": 14,
      "outputs": [
        {
          "output_type": "stream",
          "text": [
            "Value Function\n",
            "[[18.34077662]\n",
            " [25.6578498 ]\n",
            " [15.79454237]]\n"
          ],
          "name": "stdout"
        }
      ]
    },
    {
      "cell_type": "code",
      "metadata": {
        "id": "mW8L8B5W-5bh"
      },
      "source": [
        ""
      ],
      "execution_count": null,
      "outputs": []
    }
  ]
}