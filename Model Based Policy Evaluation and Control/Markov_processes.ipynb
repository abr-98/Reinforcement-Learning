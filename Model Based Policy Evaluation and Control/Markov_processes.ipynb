{
  "nbformat": 4,
  "nbformat_minor": 0,
  "metadata": {
    "colab": {
      "name": "Markov_processes.ipynb",
      "provenance": []
    },
    "kernelspec": {
      "name": "python3",
      "display_name": "Python 3"
    },
    "language_info": {
      "name": "python"
    }
  },
  "cells": [
    {
      "cell_type": "markdown",
      "metadata": {
        "id": "_eAUMJb_62dW"
      },
      "source": [
        "### Markov Process"
      ]
    },
    {
      "cell_type": "code",
      "metadata": {
        "id": "zJPxJBRF6txA"
      },
      "source": [
        "### No rewards, No actions"
      ],
      "execution_count": 1,
      "outputs": []
    },
    {
      "cell_type": "code",
      "metadata": {
        "id": "Ew1wPmLT62AA"
      },
      "source": [
        "import numpy as np\n",
        "import tensorflow as tf"
      ],
      "execution_count": 3,
      "outputs": []
    },
    {
      "cell_type": "code",
      "metadata": {
        "id": "5CSod2I-8J4E"
      },
      "source": [
        "def markov_process(State_vec,States,Transition_matrix,Steps_req):\n",
        "  for i in range(Steps_req):  ### For how many steps we need to generate the state\n",
        "    State=np.argmax(State_vec)  ### Obtaining the state number. For [1 0 0], np.argmax gives state number as 0\n",
        "    print(f\"State at Time {i}: {State}\")\n",
        "    Quantized_vector=np.matmul(State_vec,Transition_matrix)   ### It multiplies the transition matrix and the current\n",
        "    ## state vector. So, the quantized vector contains the transition probabilities to the other states from the current state\n",
        "    State_vec=tf.keras.utils.to_categorical(np.random.choice(a=States,p=Quantized_vector),len(State_vec)) ### Randomly samples a\n",
        "    ## a state according to the transition proababilities of the current state, and updates the current state vector."
      ],
      "execution_count": 18,
      "outputs": []
    },
    {
      "cell_type": "code",
      "metadata": {
        "id": "jbbLrfXdRNK2"
      },
      "source": [
        "\"\"\"\n",
        "[0.1,0.4,0.5] * [0,1,0] = [0.3,0.2,0.5]\n",
        "[0.3,0.2,0.5]\n",
        "[0.5,0.3,0.2]\n",
        "\"\"\"\n",
        "\n",
        "### Samples class 0 with 0.3 probability, similarly samples 1 with 0.2 and 2 with 0.5 probability."
      ],
      "execution_count": null,
      "outputs": []
    },
    {
      "cell_type": "code",
      "metadata": {
        "id": "cWpq136XDN4C"
      },
      "source": [
        "Ptr=np.array([        \n",
        "    [0.1,0.4,0.5],\n",
        "    [0.3,0.2,0.5],\n",
        "    [0.5,0.3,0.2]\n",
        "])                    ### Transition matrix\n",
        "S_vec=np.array([1.,0.,0.])        ### Starting state representation\n",
        "states=[0,1,2]                  ### States available\n",
        "states_req=10"
      ],
      "execution_count": 19,
      "outputs": []
    },
    {
      "cell_type": "code",
      "metadata": {
        "colab": {
          "base_uri": "https://localhost:8080/"
        },
        "id": "QD_sIShzDbkh",
        "outputId": "a7eda35c-b9a8-4859-9be2-6fd7e5a7a174"
      },
      "source": [
        "markov_process(S_vec, states, Ptr, states_req)"
      ],
      "execution_count": 20,
      "outputs": [
        {
          "output_type": "stream",
          "text": [
            "State at Time 0: 0\n",
            "State at Time 1: 1\n",
            "State at Time 2: 2\n",
            "State at Time 3: 1\n",
            "State at Time 4: 1\n",
            "State at Time 5: 0\n",
            "State at Time 6: 2\n",
            "State at Time 7: 0\n",
            "State at Time 8: 1\n",
            "State at Time 9: 1\n"
          ],
          "name": "stdout"
        }
      ]
    },
    {
      "cell_type": "markdown",
      "metadata": {
        "id": "NOsXVDjLRvub"
      },
      "source": [
        "### Markov Reward Process"
      ]
    },
    {
      "cell_type": "code",
      "metadata": {
        "id": "VEv7o5PyDg7S"
      },
      "source": [
        "### Rewards included but no actions"
      ],
      "execution_count": 20,
      "outputs": []
    },
    {
      "cell_type": "code",
      "metadata": {
        "id": "ylgaO1XQTc32"
      },
      "source": [
        "def MRP(State_vec,States,Transition_matrix,Steps_req,Rewards):\n",
        "  for i in range(Steps_req):\n",
        "    State=np.argmax(State_vec)\n",
        "    print(f\"State at Time {i}: {State} and obtained {Rewards[State]}\")  ## We print the time step and the reward \n",
        "    ### corresponding to that state\n",
        "    Quantized_vector=np.matmul(State_vec,Transition_matrix)\n",
        "    State_vec=tf.keras.utils.to_categorical(np.random.choice(a=States,p=Quantized_vector),len(State_vec))"
      ],
      "execution_count": 21,
      "outputs": []
    },
    {
      "cell_type": "code",
      "metadata": {
        "colab": {
          "base_uri": "https://localhost:8080/"
        },
        "id": "sUGL3E5FUrVc",
        "outputId": "9efd1a1c-bf5a-4d61-f680-2010a6af2a6e"
      },
      "source": [
        "Ptr=np.array([\n",
        "    [0.1,0.4,0.5],\n",
        "    [0.3,0.2,0.5],\n",
        "    [0.5,0.3,0.2]\n",
        "])\n",
        "S_vec=np.array([1.,0.,0.])\n",
        "states=[0,1,2]\n",
        "steps_req=10\n",
        "R=np.array([2,3,5])     ## Rewards \n",
        "\n",
        "MRP(S_vec, states, Ptr, steps_req, R)"
      ],
      "execution_count": 22,
      "outputs": [
        {
          "output_type": "stream",
          "text": [
            "State at Time 0: 0 and obtained 2\n",
            "State at Time 1: 1 and obtained 3\n",
            "State at Time 2: 2 and obtained 5\n",
            "State at Time 3: 0 and obtained 2\n",
            "State at Time 4: 2 and obtained 5\n",
            "State at Time 5: 0 and obtained 2\n",
            "State at Time 6: 1 and obtained 3\n",
            "State at Time 7: 2 and obtained 5\n",
            "State at Time 8: 2 and obtained 5\n",
            "State at Time 9: 0 and obtained 2\n"
          ],
          "name": "stdout"
        }
      ]
    },
    {
      "cell_type": "code",
      "metadata": {
        "id": "bb4AyxJGVQVM"
      },
      "source": [
        ""
      ],
      "execution_count": null,
      "outputs": []
    }
  ]
}