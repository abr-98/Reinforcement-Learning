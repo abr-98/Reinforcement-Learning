{
  "nbformat": 4,
  "nbformat_minor": 0,
  "metadata": {
    "colab": {
      "name": "Temporal Difference Learning_evaluation.ipynb",
      "provenance": []
    },
    "kernelspec": {
      "name": "python3",
      "display_name": "Python 3"
    },
    "language_info": {
      "name": "python"
    }
  },
  "cells": [
    {
      "cell_type": "code",
      "metadata": {
        "id": "_85AW_3r1i5X"
      },
      "source": [
        "### Temporal Difference Learning or TD learning is another Model Free Policy Evaluation Technique"
      ],
      "execution_count": 2,
      "outputs": []
    },
    {
      "cell_type": "code",
      "metadata": {
        "id": "nbiJ5Z9iDjQ5"
      },
      "source": [
        "### It uses a combination of Monte Carlo and Dynamic Programming.\n",
        "\n",
        "### Monte-carlo can work only in episodic setting and updates value function only after an episode\n",
        "\n",
        "### TD learning can work in non-episodic setting also, and the value function is updated for every state in an episode\n",
        "\n",
        "### It samples (state, rewards, next step) from the environment, and estimates the expectation of \n",
        "### discounted future rewards for a state, (G)\n",
        "\n",
        "### G for a state is estimated as: G(t)= R(t) + gamma*V_pi(s'), where s' is the next state.\n",
        "### and V_pi(s): value function of state s under policy pi\n",
        "\n",
        "### This estimation is called Bootstrapping. \n",
        "\n",
        "### As in this case we sample (S,R,S') from original environment, it is said to have a monte carlo character\n",
        "### and as we use previous v[s'] to estimate the return of the state at t+1, we call the approach to have\n",
        "### Dynamic programming character. \n",
        "\n",
        "### In simpler words, instead of collecting the entire path, TD uses the value of the next state s' to create an\n",
        "### estimate. As v[s'] is the expected sum of rewards that can be collected from s'(the next state according to policy \n",
        "### based action), it is said to give an approx estimate of G.\n",
        "\n",
        "### G(t)= R(t) + gamma*V_pi(s'). so, the [r_(t+1)+gamma*r_(t+2)...] is replaced. \n",
        "\n",
        "### Due to the presence of the dynamic programming character, for TD learning, the process must be a markovian \n",
        "### Process. \n",
        "\n",
        "### Now as in this case, we use V_pi[s'] to estimate G, there is no variance, as v[s'] is the expected sum of rewards\n",
        "### and is said to be the probabilistic sum of all the rewards that can be acheived from s'. So, it covers all the paths possible. \n",
        "\n",
        "### But as it uses an estimation there is a bias involved. \n",
        "\n",
        "### As in monte carlo online:  V[s]=V[s]+alpha*(G-V[s])\n",
        "\n",
        "### In TD the equation is modified as: V[s]=V[s]+alpha*((R[s]+gamma*V[s']) - V[s])"
      ],
      "execution_count": 3,
      "outputs": []
    },
    {
      "cell_type": "markdown",
      "metadata": {
        "id": "qTBSlEUyjDQg"
      },
      "source": [
        "#### Accessing Environment"
      ]
    },
    {
      "cell_type": "code",
      "metadata": {
        "colab": {
          "base_uri": "https://localhost:8080/"
        },
        "id": "ybW-6zkBiTUx",
        "outputId": "cdfa13f2-69ec-480e-c818-d647886443e1"
      },
      "source": [
        "!pip3 install pygame"
      ],
      "execution_count": 4,
      "outputs": [
        {
          "output_type": "stream",
          "text": [
            "Collecting pygame\n",
            "\u001b[?25l  Downloading https://files.pythonhosted.org/packages/4b/9e/c400554dd1d0e562bd4379f35ad5023c68fc120003a58991405850f56f95/pygame-2.0.1-cp37-cp37m-manylinux1_x86_64.whl (11.8MB)\n",
            "\u001b[K     |████████████████████████████████| 11.8MB 17.0MB/s \n",
            "\u001b[?25hInstalling collected packages: pygame\n",
            "Successfully installed pygame-2.0.1\n"
          ],
          "name": "stdout"
        }
      ]
    },
    {
      "cell_type": "code",
      "metadata": {
        "colab": {
          "base_uri": "https://localhost:8080/"
        },
        "id": "WZsX0k0OjNzQ",
        "outputId": "5d0e2741-da9f-498a-b166-c5c1eab9cb1c"
      },
      "source": [
        "import os\n",
        "os.environ['SDL_VIDEODRIVER']='dummy'\n",
        "import pygame\n",
        "pygame.display.set_mode((640,480))"
      ],
      "execution_count": 5,
      "outputs": [
        {
          "output_type": "stream",
          "text": [
            "pygame 2.0.1 (SDL 2.0.14, Python 3.7.10)\n",
            "Hello from the pygame community. https://www.pygame.org/contribute.html\n"
          ],
          "name": "stdout"
        },
        {
          "output_type": "execute_result",
          "data": {
            "text/plain": [
              "<Surface(640x480x32 SW)>"
            ]
          },
          "metadata": {
            "tags": []
          },
          "execution_count": 5
        }
      ]
    },
    {
      "cell_type": "code",
      "metadata": {
        "id": "HDqFHT7vjRmK"
      },
      "source": [
        "!unzip images.zip"
      ],
      "execution_count": null,
      "outputs": []
    },
    {
      "cell_type": "code",
      "metadata": {
        "id": "isDCcv09jTaN"
      },
      "source": [
        "!unzip modules.zip"
      ],
      "execution_count": null,
      "outputs": []
    },
    {
      "cell_type": "code",
      "metadata": {
        "id": "oXElP5kcjUsX"
      },
      "source": [
        "from gridworld import GridWorld\n",
        "import numpy as np"
      ],
      "execution_count": 8,
      "outputs": []
    },
    {
      "cell_type": "code",
      "metadata": {
        "id": "EsGJc-KujYTL"
      },
      "source": [
        "world=\\\n",
        "    \"\"\"\n",
        "    wwwwwwwwww\n",
        "    wa       w\n",
        "    w    wwwww\n",
        "    wwww     w\n",
        "    w        w\n",
        "    w        w\n",
        "    w        w\n",
        "    w g  wwwww\n",
        "    w        w\n",
        "    wwwwwwwwww\n",
        "    \"\"\"\n",
        "\n",
        "#### World Declaration\n",
        "env=GridWorld(world)\n",
        "\n",
        "env._max_epi_step=200     ## Number of maximum steps in an episode"
      ],
      "execution_count": 10,
      "outputs": []
    },
    {
      "cell_type": "code",
      "metadata": {
        "id": "cK8we4KdjbnM"
      },
      "source": [
        "import matplotlib.pyplot as plt\n",
        "import cv2"
      ],
      "execution_count": 11,
      "outputs": []
    },
    {
      "cell_type": "code",
      "metadata": {
        "colab": {
          "base_uri": "https://localhost:8080/",
          "height": 595
        },
        "id": "-5wrRZ6tjfOy",
        "outputId": "9ae3e763-8a72-46a9-a117-07aa79031fdf"
      },
      "source": [
        "img=cv2.imread(\"env.png\")\n",
        "plt.figure(figsize = (10,10))\n",
        "plt.imshow(img)\n",
        "plt.show()"
      ],
      "execution_count": 12,
      "outputs": [
        {
          "output_type": "display_data",
          "data": {
            "image/png": "[encoded data removed]",
            "text/plain": [
              "<Figure size 720x720 with 1 Axes>"
            ]
          },
          "metadata": {
            "tags": [],
            "needs_background": "light"
          }
        }
      ]
    },
    {
      "cell_type": "code",
      "metadata": {
        "id": "QdH0S9akjgc2"
      },
      "source": [
        "policy=np.random.randint(0,4,env.state_count)  ### Creating a random policy for all the states\n",
        "### For evaluation "
      ],
      "execution_count": 13,
      "outputs": []
    },
    {
      "cell_type": "code",
      "metadata": {
        "colab": {
          "base_uri": "https://localhost:8080/"
        },
        "id": "Do-t-AQHjjF2",
        "outputId": "77f922e9-bbf3-4ef1-8631-8f22ea706f29"
      },
      "source": [
        "policy"
      ],
      "execution_count": 14,
      "outputs": [
        {
          "output_type": "execute_result",
          "data": {
            "text/plain": [
              "array([3, 2, 3, 1, 1, 3, 2, 3, 1, 0, 0, 1, 2, 0, 2, 0, 1, 3, 1, 0, 3, 1,\n",
              "       0, 3, 2, 3, 0, 1, 2, 1, 3, 2, 3, 3, 2, 3, 2, 2, 1, 3, 1, 0, 2, 2,\n",
              "       2, 1, 2, 1, 0, 0, 2, 1, 1])"
            ]
          },
          "metadata": {
            "tags": []
          },
          "execution_count": 14
        }
      ]
    },
    {
      "cell_type": "markdown",
      "metadata": {
        "id": "-rI401qGjmmc"
      },
      "source": [
        "### TD Learning"
      ]
    },
    {
      "cell_type": "code",
      "metadata": {
        "id": "CTMs5d76jkxW"
      },
      "source": [
        "def generate_episodes(policy):\n",
        "\n",
        "  episodes=[]\n",
        "  curr_state=env.reset()  ### Returns a starting state.\n",
        "  done=False ### Signifies if the episode is over.\n",
        "\n",
        "  while True:\n",
        "    action=policy[curr_state]  ## Choosing the action for the state according to the policy.\n",
        "    next_state,reward,done,_=env.step(action)  ### Returns from environment on taking an action\n",
        "    episodes.append((curr_state,reward))  ### keeping record of the path in an episode (state,reward)\n",
        "\n",
        "    yield(curr_state,reward,next_state)  ### Throws this tuple, works like a generator\n",
        "\n",
        "    if done== True:\n",
        "      curr_state=env.reset()  ### Returns a starting state\n",
        "    else:\n",
        "      curr_state=next_state ### updating state\n",
        "\n",
        "    \n",
        "### As in case of TD learning episodic setting is not required, so we just need to throw the tuples to\n",
        "## Update the value functions accordingly. The action is taken according to the policy.\n",
        "\n"
      ],
      "execution_count": 15,
      "outputs": []
    },
    {
      "cell_type": "code",
      "metadata": {
        "id": "NgSTrdlAmVP2"
      },
      "source": [
        "def generate_value_func(policy,gamma=0.99,alpha=0.001):\n",
        "  \n",
        "  generator=generate_episodes(policy)  ### Creating the generator\n",
        "  V=np.zeros(env.state_count) ### Value function  for the states Initialized\n",
        "\n",
        "  for _ in range(100000):  ### We let the agent see 100000 tuples to estimate the value function\n",
        "    \n",
        "    s,r,s_=next(generator) ### Generating the next tuple based on the policy, to choose the action\n",
        "    V[s]=V[s]+alpha*((r+gamma*V[s_])-V[s])  ### Updating Value function from the formula\n",
        "\n",
        "    ### ALpha is the learning rate\n",
        "    ### Gamma is the discount factor.\n",
        "  \n",
        "  return V\n",
        "\n",
        "\n",
        "\n"
      ],
      "execution_count": 19,
      "outputs": []
    },
    {
      "cell_type": "code",
      "metadata": {
        "colab": {
          "base_uri": "https://localhost:8080/"
        },
        "id": "JWgzBLJRp2ls",
        "outputId": "e549a0ad-8811-4eb7-9f1d-333c42567d5b"
      },
      "source": [
        "generate_value_func(policy)"
      ],
      "execution_count": 20,
      "outputs": [
        {
          "output_type": "execute_result",
          "data": {
            "text/plain": [
              "array([-9.46435659e+00, -4.45716964e+00, -8.21689574e-01, -4.86120229e-01,\n",
              "       -1.66649906e-01, -1.94201587e-01, -2.05119822e-02, -1.20020570e-02,\n",
              "       -6.86095971e+00, -1.17428402e+00, -1.81166630e+00, -4.73228257e+00,\n",
              "       -7.35635670e+00, -5.02709788e+00, -5.01039437e+00, -5.75707409e+00,\n",
              "       -5.64606587e+00, -2.27935605e+00, -2.66495558e-01, -7.19451882e-01,\n",
              "       -3.64142542e+00, -6.60281865e-01, -2.87143210e+00, -5.42510069e+00,\n",
              "       -5.41060606e+00, -7.63056133e-01, -7.18656354e-01, -2.28849590e+00,\n",
              "       -6.70378519e-01, -5.45332889e-01, -9.77428959e-01, -6.94649420e-01,\n",
              "       -1.34763373e+00, -2.66360626e-01, -9.19110554e-02, -2.21618149e+00,\n",
              "       -1.00940865e+00, -6.04765064e-01, -4.17405684e-01, -1.04175030e-01,\n",
              "       -2.97004419e-01,  1.54594045e-01,  0.00000000e+00,  1.57591725e+00,\n",
              "       -2.65558036e-02, -4.15544920e-02,  2.90181268e-03, -7.27830626e-02,\n",
              "       -1.97791271e-02, -1.59692661e-01, -1.48497002e-01, -1.00877376e-01,\n",
              "       -1.46859958e-01])"
            ]
          },
          "metadata": {
            "tags": []
          },
          "execution_count": 20
        }
      ]
    },
    {
      "cell_type": "code",
      "metadata": {
        "id": "4pYku0Oep-yi"
      },
      "source": [
        "### Now as we use R + gamma* V_pi[s'] as the estimation of G for state s, there is some error involved\n",
        "### as it is an estimate.\n",
        "\n",
        "### The error is called TD Error, and given by:\n",
        "\n",
        "## Delta(t)= R(t) + gamma* V_pi(S_(t+1)) - V_pi(S_t)\n",
        "\n",
        "### In this case, we use alpha as a very small constant value, it causes the algorithm to converge\n",
        "### slowly. The learning rate should decay proportional to 1/t. Such a learning rate, varying with\n",
        "### time helps the algorithm to converge quickly.\n",
        "\n",
        "### If alpha is set to 1, the algorithm oscillates and never converges. so, we set alpha to a very small\n",
        "## Value for the algorithm to converge. "
      ],
      "execution_count": 20,
      "outputs": []
    }
  ]
}