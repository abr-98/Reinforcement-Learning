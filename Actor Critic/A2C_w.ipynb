{
  "nbformat": 4,
  "nbformat_minor": 5,
  "metadata": {
    "kernelspec": {
      "display_name": "Python 3",
      "language": "python",
      "name": "python3"
    },
    "language_info": {
      "codemirror_mode": {
        "name": "ipython",
        "version": 3
      },
      "file_extension": ".py",
      "mimetype": "text/x-python",
      "name": "python",
      "nbconvert_exporter": "python",
      "pygments_lexer": "ipython3",
      "version": "3.7.10"
    },
    "colab": {
      "name": "A2C_w.ipynb",
      "provenance": []
    }
  },
  "cells": [
    {
      "cell_type": "code",
      "metadata": {
        "id": "068a2f33"
      },
      "source": [
        "import gym\n",
        "import numpy as np\n",
        "import tensorflow as tf\n",
        "import matplotlib.pyplot as plt\n",
        "import tensorflow_probability as tfp\n",
        "from stable_baselines.common.vec_env import SubprocVecEnv"
      ],
      "id": "068a2f33",
      "execution_count": null,
      "outputs": []
    },
    {
      "cell_type": "code",
      "metadata": {
        "id": "5809fdb9"
      },
      "source": [
        "def make_env(env_id,rank,seed=101):\n",
        "  def get_env():\n",
        "    env=gym.make(env_id)\n",
        "    env.seed(seed+rank)\n",
        "    return env\n",
        "  return get_env"
      ],
      "id": "5809fdb9",
      "execution_count": null,
      "outputs": []
    },
    {
      "cell_type": "code",
      "metadata": {
        "id": "c64c1802"
      },
      "source": [
        "class Actor(tf.keras.Model):\n",
        "  def __init__(self,state_size=4,output_size=2):\n",
        "    super().__init__(self)\n",
        "    self.lr1=tf.keras.layers.Dense(64,\"relu\",input_dim=state_size)\n",
        "    self.lr2=tf.keras.layers.Dense(64,\"relu\")\n",
        "    self.lr3=tf.keras.layers.Dense(output_size)\n",
        "\n",
        "  def call(self,s):\n",
        "    net=self.lr1(s)\n",
        "    net=self.lr2(net)\n",
        "    logits=self.lr3(net)\n",
        "    return logits\n",
        "\n",
        "  def action(self,s):\n",
        "    logits=self.call(s)\n",
        "    dist=tfp.distributions.Categorical(logits=logits)\n",
        "    return dist.sample()\n",
        "\n",
        "  def action_logprobs(self,s,a):\n",
        "    logits=self.call(s)\n",
        "    dist=tfp.distributions.Categorical(logits=logits)\n",
        "    return dist.log_prob(a)\n",
        "\n",
        "  def entropy(self,s):\n",
        "    logits=self.call(s)\n",
        "    dist=tfp.distributions.Categorical(logits=logits)\n",
        "    return tf.reduce_mean(dist.entropy())\n",
        "\n",
        "  def actor_loss(self,s,a,adv):\n",
        "    return -tf.reduce_mean(self.action_logprobs(s,a)*adv)\n",
        "\n",
        "\n",
        "\n",
        "class Critic(tf.keras.Model):\n",
        "  def __init__(self,state_size=4):\n",
        "    super().__init__(self)\n",
        "    self.lr1=tf.keras.layers.Dense(64,\"relu\",input_dim=state_size)\n",
        "    self.lr2=tf.keras.layers.Dense(64,\"relu\")\n",
        "    self.lr3=tf.keras.layers.Dense(1)\n",
        "\n",
        "  def call(self,s):\n",
        "    net=self.lr1(s)\n",
        "    net=self.lr2(net)\n",
        "    value=self.lr3(net)\n",
        "    return value\n",
        "\n",
        "  def value(self,s):\n",
        "    value=self.call(s)\n",
        "    return value\n",
        "\n",
        "  def critic_loss(self,s,returns):\n",
        "    return 0.5*tf.reduce_mean(tf.math.squared_difference(returns,self.value(s)))\n",
        "\n"
      ],
      "id": "c64c1802",
      "execution_count": null,
      "outputs": []
    },
    {
      "cell_type": "code",
      "metadata": {
        "id": "e9a0ac06"
      },
      "source": [
        "#Helper functions\n",
        "import functools\n",
        "import operator\n",
        "\n",
        "def compute_gae(next_value, rewards, masks, values, gamma=0.99, lam=0.95):\n",
        "    values = values + [next_value]\n",
        "    gae = 0\n",
        "    returns = []\n",
        "    for step in reversed(range(len(rewards))):\n",
        "        delta = rewards[step] + gamma * values[step + 1] * masks[step] - values[step]\n",
        "        gae = delta + gamma * lam * masks[step] * gae\n",
        "        returns.insert(0, gae + values[step])\n",
        "    return returns\n",
        "\n",
        "def functools_reduce_iconcat(a):\n",
        "    return np.array(functools.reduce(operator.iconcat, a, []))\n",
        "\n",
        "def normalize(x):\n",
        "    x -= x.mean()\n",
        "    x /= (x.std() + 1e-8)\n",
        "    return x"
      ],
      "id": "e9a0ac06",
      "execution_count": null,
      "outputs": []
    },
    {
      "cell_type": "code",
      "metadata": {
        "id": "bb042285"
      },
      "source": [
        "#TESTER\n",
        "class TESTER:\n",
        "  def __init__(self,env_id=\"CartPole-v0\"):\n",
        "    self.test_env=make_env(env_id,10)()\n",
        "\n",
        "  def test_once(self,actor):\n",
        "    cs=self.test_env.reset()\n",
        "    total_reward=0\n",
        "    done=False\n",
        "    while not done:\n",
        "      a=actor.action(cs.reshape(1,-1)).numpy()[0]\n",
        "      ns,r,done,info=self.test_env.step(a)\n",
        "      total_reward+=r\n",
        "      cs=ns\n",
        "    return total_reward\n",
        "\n",
        "  def test_avg_score(self,actor,num=10):\n",
        "    return np.mean([self.test_once(actor) for _ in range(num)])"
      ],
      "id": "bb042285",
      "execution_count": null,
      "outputs": []
    },
    {
      "cell_type": "code",
      "metadata": {
        "id": "d8c366bd"
      },
      "source": [
        "#AGENT\n",
        "actor=Actor()\n",
        "critic=Critic()\n",
        "optimizer=tf.keras.optimizers.RMSprop(learning_rate=3e-4)\n",
        "#ENV\n",
        "env=SubprocVecEnv([make_env(\"CartPole-v0\",i) for i in range(4)])\n",
        "tester=TESTER(\"CartPole-v0\")"
      ],
      "id": "d8c366bd",
      "execution_count": null,
      "outputs": []
    },
    {
      "cell_type": "code",
      "metadata": {
        "id": "bc0821cd",
        "outputId": "ee0634ea-0543-41fa-945d-6cc7b349868b"
      },
      "source": [
        "scores=[]\n",
        "for iteration in range(5000):\n",
        "    states = []\n",
        "    actions = []\n",
        "    rewards = []\n",
        "    values=[]\n",
        "    masks = []\n",
        "\n",
        "    curr_states=env.reset()\n",
        "    for _ in range(256):\n",
        "        acts=actor.action(curr_states).numpy()\n",
        "        val=critic.value(curr_states).numpy()\n",
        "        next_states,rewds,dones,infos=env.step(acts)\n",
        "\n",
        "        states.append(curr_states)\n",
        "        actions.append(acts)\n",
        "        rewards.append(rewds)\n",
        "        values.append(val.ravel())\n",
        "        masks.append(1-dones)\n",
        "\n",
        "        curr_states=next_states\n",
        "        \n",
        "    next_val=critic.value(next_states).numpy().ravel()\n",
        "    \n",
        "    returns=compute_gae(next_val,rewards,masks,values)\n",
        "\n",
        "    returns      = functools_reduce_iconcat(returns)\n",
        "    values       = functools_reduce_iconcat(values)\n",
        "    states       = functools_reduce_iconcat(states)\n",
        "    actions      = functools_reduce_iconcat(actions)\n",
        "    advantage    = returns - values\n",
        "    advantage    = normalize(advantage)\n",
        "    returns      = returns.reshape(-1,1)\n",
        "    \n",
        "    with tf.GradientTape() as t1:\n",
        "      actor_loss=actor.actor_loss(states,actions,advantage)\n",
        "      critic_loss=critic.critic_loss(states,returns)\n",
        "      entropy=actor.entropy(states)\n",
        "      loss=actor_loss+0.25*critic_loss-0.01*entropy\n",
        "\n",
        "    grads=t1.gradient(loss,actor.trainable_variables+critic.trainable_variables)\n",
        "    optimizer.apply_gradients(zip(grads,actor.trainable_variables+critic.trainable_variables))\n",
        "\n",
        "    if iteration%10==0:\n",
        "      score=tester.test_avg_score(actor)\n",
        "      print(\"ON ITR {} SCORE {}\".format(iteration,score))\n",
        "      scores.append(score)"
      ],
      "id": "bc0821cd",
      "execution_count": null,
      "outputs": [
        {
          "output_type": "stream",
          "text": [
            "WARNING:tensorflow:Layer dense is casting an input tensor from dtype float64 to the layer's dtype of float32, which is new behavior in TensorFlow 2.  The layer has dtype float32 because it's dtype defaults to floatx.\n",
            "\n",
            "If you intended to run this layer in float32, you can safely ignore this warning. If in doubt, this warning is likely only an issue if you are porting a TensorFlow 1.X model to TensorFlow 2.\n",
            "\n",
            "To change all layers to have dtype float64 by default, call `tf.keras.backend.set_floatx('float64')`. To change just this layer, pass dtype='float64' to the layer constructor. If you are the author of this layer, you can disable autocasting by passing autocast=False to the base Layer constructor.\n",
            "\n",
            "WARNING:tensorflow:Layer dense_3 is casting an input tensor from dtype float64 to the layer's dtype of float32, which is new behavior in TensorFlow 2.  The layer has dtype float32 because it's dtype defaults to floatx.\n",
            "\n",
            "If you intended to run this layer in float32, you can safely ignore this warning. If in doubt, this warning is likely only an issue if you are porting a TensorFlow 1.X model to TensorFlow 2.\n",
            "\n",
            "To change all layers to have dtype float64 by default, call `tf.keras.backend.set_floatx('float64')`. To change just this layer, pass dtype='float64' to the layer constructor. If you are the author of this layer, you can disable autocasting by passing autocast=False to the base Layer constructor.\n",
            "\n",
            "ON ITR 0 SCORE 22.3\n",
            "ON ITR 10 SCORE 27.1\n",
            "ON ITR 20 SCORE 27.0\n",
            "ON ITR 30 SCORE 33.9\n",
            "ON ITR 40 SCORE 24.9\n",
            "ON ITR 50 SCORE 47.7\n",
            "ON ITR 60 SCORE 49.6\n",
            "ON ITR 70 SCORE 44.9\n",
            "ON ITR 80 SCORE 72.8\n",
            "ON ITR 90 SCORE 62.9\n",
            "ON ITR 100 SCORE 64.4\n",
            "ON ITR 110 SCORE 73.3\n",
            "ON ITR 120 SCORE 85.8\n",
            "ON ITR 130 SCORE 120.9\n",
            "ON ITR 140 SCORE 108.0\n",
            "ON ITR 150 SCORE 122.4\n",
            "ON ITR 160 SCORE 118.4\n",
            "ON ITR 170 SCORE 133.9\n",
            "ON ITR 180 SCORE 148.4\n",
            "ON ITR 190 SCORE 163.4\n",
            "ON ITR 200 SCORE 160.4\n",
            "ON ITR 210 SCORE 176.2\n",
            "ON ITR 220 SCORE 153.6\n",
            "ON ITR 230 SCORE 152.1\n",
            "ON ITR 240 SCORE 177.2\n",
            "ON ITR 250 SCORE 162.0\n",
            "ON ITR 260 SCORE 157.9\n",
            "ON ITR 270 SCORE 180.4\n",
            "ON ITR 280 SCORE 197.0\n",
            "ON ITR 290 SCORE 176.0\n",
            "ON ITR 300 SCORE 188.1\n",
            "ON ITR 310 SCORE 187.5\n",
            "ON ITR 320 SCORE 187.4\n",
            "ON ITR 330 SCORE 192.2\n",
            "ON ITR 340 SCORE 170.9\n",
            "ON ITR 350 SCORE 188.3\n",
            "ON ITR 360 SCORE 180.7\n",
            "ON ITR 370 SCORE 163.0\n",
            "ON ITR 380 SCORE 188.6\n",
            "ON ITR 390 SCORE 190.7\n"
          ],
          "name": "stdout"
        },
        {
          "output_type": "error",
          "ename": "KeyboardInterrupt",
          "evalue": "",
          "traceback": [
            "\u001b[1;31m---------------------------------------------------------------------------\u001b[0m",
            "\u001b[1;31mKeyboardInterrupt\u001b[0m                         Traceback (most recent call last)",
            "\u001b[1;32m<ipython-input-7-7c4ba9fe8cd1>\u001b[0m in \u001b[0;36m<module>\u001b[1;34m\u001b[0m\n\u001b[0;32m      9\u001b[0m     \u001b[0mcurr_states\u001b[0m\u001b[1;33m=\u001b[0m\u001b[0menv\u001b[0m\u001b[1;33m.\u001b[0m\u001b[0mreset\u001b[0m\u001b[1;33m(\u001b[0m\u001b[1;33m)\u001b[0m\u001b[1;33m\u001b[0m\u001b[1;33m\u001b[0m\u001b[0m\n\u001b[0;32m     10\u001b[0m     \u001b[1;32mfor\u001b[0m \u001b[0m_\u001b[0m \u001b[1;32min\u001b[0m \u001b[0mrange\u001b[0m\u001b[1;33m(\u001b[0m\u001b[1;36m256\u001b[0m\u001b[1;33m)\u001b[0m\u001b[1;33m:\u001b[0m\u001b[1;33m\u001b[0m\u001b[1;33m\u001b[0m\u001b[0m\n\u001b[1;32m---> 11\u001b[1;33m         \u001b[0macts\u001b[0m\u001b[1;33m=\u001b[0m\u001b[0mactor\u001b[0m\u001b[1;33m.\u001b[0m\u001b[0maction\u001b[0m\u001b[1;33m(\u001b[0m\u001b[0mcurr_states\u001b[0m\u001b[1;33m)\u001b[0m\u001b[1;33m.\u001b[0m\u001b[0mnumpy\u001b[0m\u001b[1;33m(\u001b[0m\u001b[1;33m)\u001b[0m\u001b[1;33m\u001b[0m\u001b[1;33m\u001b[0m\u001b[0m\n\u001b[0m\u001b[0;32m     12\u001b[0m         \u001b[0mval\u001b[0m\u001b[1;33m=\u001b[0m\u001b[0mcritic\u001b[0m\u001b[1;33m.\u001b[0m\u001b[0mvalue\u001b[0m\u001b[1;33m(\u001b[0m\u001b[0mcurr_states\u001b[0m\u001b[1;33m)\u001b[0m\u001b[1;33m.\u001b[0m\u001b[0mnumpy\u001b[0m\u001b[1;33m(\u001b[0m\u001b[1;33m)\u001b[0m\u001b[1;33m\u001b[0m\u001b[1;33m\u001b[0m\u001b[0m\n\u001b[0;32m     13\u001b[0m         \u001b[0mnext_states\u001b[0m\u001b[1;33m,\u001b[0m\u001b[0mrewds\u001b[0m\u001b[1;33m,\u001b[0m\u001b[0mdones\u001b[0m\u001b[1;33m,\u001b[0m\u001b[0minfos\u001b[0m\u001b[1;33m=\u001b[0m\u001b[0menv\u001b[0m\u001b[1;33m.\u001b[0m\u001b[0mstep\u001b[0m\u001b[1;33m(\u001b[0m\u001b[0macts\u001b[0m\u001b[1;33m)\u001b[0m\u001b[1;33m\u001b[0m\u001b[1;33m\u001b[0m\u001b[0m\n",
            "\u001b[1;32m<ipython-input-3-1504d40dd79c>\u001b[0m in \u001b[0;36maction\u001b[1;34m(self, s)\u001b[0m\n\u001b[0;32m     13\u001b[0m \u001b[1;33m\u001b[0m\u001b[0m\n\u001b[0;32m     14\u001b[0m   \u001b[1;32mdef\u001b[0m \u001b[0maction\u001b[0m\u001b[1;33m(\u001b[0m\u001b[0mself\u001b[0m\u001b[1;33m,\u001b[0m\u001b[0ms\u001b[0m\u001b[1;33m)\u001b[0m\u001b[1;33m:\u001b[0m\u001b[1;33m\u001b[0m\u001b[1;33m\u001b[0m\u001b[0m\n\u001b[1;32m---> 15\u001b[1;33m     \u001b[0mlogits\u001b[0m\u001b[1;33m=\u001b[0m\u001b[0mself\u001b[0m\u001b[1;33m.\u001b[0m\u001b[0mcall\u001b[0m\u001b[1;33m(\u001b[0m\u001b[0ms\u001b[0m\u001b[1;33m)\u001b[0m\u001b[1;33m\u001b[0m\u001b[1;33m\u001b[0m\u001b[0m\n\u001b[0m\u001b[0;32m     16\u001b[0m     \u001b[0mdist\u001b[0m\u001b[1;33m=\u001b[0m\u001b[0mtfp\u001b[0m\u001b[1;33m.\u001b[0m\u001b[0mdistributions\u001b[0m\u001b[1;33m.\u001b[0m\u001b[0mCategorical\u001b[0m\u001b[1;33m(\u001b[0m\u001b[0mlogits\u001b[0m\u001b[1;33m=\u001b[0m\u001b[0mlogits\u001b[0m\u001b[1;33m)\u001b[0m\u001b[1;33m\u001b[0m\u001b[1;33m\u001b[0m\u001b[0m\n\u001b[0;32m     17\u001b[0m     \u001b[1;32mreturn\u001b[0m \u001b[0mdist\u001b[0m\u001b[1;33m.\u001b[0m\u001b[0msample\u001b[0m\u001b[1;33m(\u001b[0m\u001b[1;33m)\u001b[0m\u001b[1;33m\u001b[0m\u001b[1;33m\u001b[0m\u001b[0m\n",
            "\u001b[1;32m<ipython-input-3-1504d40dd79c>\u001b[0m in \u001b[0;36mcall\u001b[1;34m(self, s)\u001b[0m\n\u001b[0;32m      8\u001b[0m   \u001b[1;32mdef\u001b[0m \u001b[0mcall\u001b[0m\u001b[1;33m(\u001b[0m\u001b[0mself\u001b[0m\u001b[1;33m,\u001b[0m\u001b[0ms\u001b[0m\u001b[1;33m)\u001b[0m\u001b[1;33m:\u001b[0m\u001b[1;33m\u001b[0m\u001b[1;33m\u001b[0m\u001b[0m\n\u001b[0;32m      9\u001b[0m     \u001b[0mnet\u001b[0m\u001b[1;33m=\u001b[0m\u001b[0mself\u001b[0m\u001b[1;33m.\u001b[0m\u001b[0mlr1\u001b[0m\u001b[1;33m(\u001b[0m\u001b[0ms\u001b[0m\u001b[1;33m)\u001b[0m\u001b[1;33m\u001b[0m\u001b[1;33m\u001b[0m\u001b[0m\n\u001b[1;32m---> 10\u001b[1;33m     \u001b[0mnet\u001b[0m\u001b[1;33m=\u001b[0m\u001b[0mself\u001b[0m\u001b[1;33m.\u001b[0m\u001b[0mlr2\u001b[0m\u001b[1;33m(\u001b[0m\u001b[0mnet\u001b[0m\u001b[1;33m)\u001b[0m\u001b[1;33m\u001b[0m\u001b[1;33m\u001b[0m\u001b[0m\n\u001b[0m\u001b[0;32m     11\u001b[0m     \u001b[0mlogits\u001b[0m\u001b[1;33m=\u001b[0m\u001b[0mself\u001b[0m\u001b[1;33m.\u001b[0m\u001b[0mlr3\u001b[0m\u001b[1;33m(\u001b[0m\u001b[0mnet\u001b[0m\u001b[1;33m)\u001b[0m\u001b[1;33m\u001b[0m\u001b[1;33m\u001b[0m\u001b[0m\n\u001b[0;32m     12\u001b[0m     \u001b[1;32mreturn\u001b[0m \u001b[0mlogits\u001b[0m\u001b[1;33m\u001b[0m\u001b[1;33m\u001b[0m\u001b[0m\n",
            "\u001b[1;32m~\\anaconda3\\envs\\myenv\\lib\\site-packages\\tensorflow_core\\python\\keras\\engine\\base_layer.py\u001b[0m in \u001b[0;36m__call__\u001b[1;34m(self, inputs, *args, **kwargs)\u001b[0m\n\u001b[0;32m    820\u001b[0m           with base_layer_utils.autocast_context_manager(\n\u001b[0;32m    821\u001b[0m               self._compute_dtype):\n\u001b[1;32m--> 822\u001b[1;33m             \u001b[0moutputs\u001b[0m \u001b[1;33m=\u001b[0m \u001b[0mself\u001b[0m\u001b[1;33m.\u001b[0m\u001b[0mcall\u001b[0m\u001b[1;33m(\u001b[0m\u001b[0mcast_inputs\u001b[0m\u001b[1;33m,\u001b[0m \u001b[1;33m*\u001b[0m\u001b[0margs\u001b[0m\u001b[1;33m,\u001b[0m \u001b[1;33m**\u001b[0m\u001b[0mkwargs\u001b[0m\u001b[1;33m)\u001b[0m\u001b[1;33m\u001b[0m\u001b[1;33m\u001b[0m\u001b[0m\n\u001b[0m\u001b[0;32m    823\u001b[0m           \u001b[0mself\u001b[0m\u001b[1;33m.\u001b[0m\u001b[0m_handle_activity_regularization\u001b[0m\u001b[1;33m(\u001b[0m\u001b[0minputs\u001b[0m\u001b[1;33m,\u001b[0m \u001b[0moutputs\u001b[0m\u001b[1;33m)\u001b[0m\u001b[1;33m\u001b[0m\u001b[1;33m\u001b[0m\u001b[0m\n\u001b[0;32m    824\u001b[0m           \u001b[0mself\u001b[0m\u001b[1;33m.\u001b[0m\u001b[0m_set_mask_metadata\u001b[0m\u001b[1;33m(\u001b[0m\u001b[0minputs\u001b[0m\u001b[1;33m,\u001b[0m \u001b[0moutputs\u001b[0m\u001b[1;33m,\u001b[0m \u001b[0minput_masks\u001b[0m\u001b[1;33m)\u001b[0m\u001b[1;33m\u001b[0m\u001b[1;33m\u001b[0m\u001b[0m\n",
            "\u001b[1;32m~\\anaconda3\\envs\\myenv\\lib\\site-packages\\tensorflow_core\\python\\keras\\layers\\core.py\u001b[0m in \u001b[0;36mcall\u001b[1;34m(self, inputs)\u001b[0m\n\u001b[0;32m   1142\u001b[0m         \u001b[0moutputs\u001b[0m \u001b[1;33m=\u001b[0m \u001b[0mgen_math_ops\u001b[0m\u001b[1;33m.\u001b[0m\u001b[0mmat_mul\u001b[0m\u001b[1;33m(\u001b[0m\u001b[0minputs\u001b[0m\u001b[1;33m,\u001b[0m \u001b[0mself\u001b[0m\u001b[1;33m.\u001b[0m\u001b[0mkernel\u001b[0m\u001b[1;33m)\u001b[0m\u001b[1;33m\u001b[0m\u001b[1;33m\u001b[0m\u001b[0m\n\u001b[0;32m   1143\u001b[0m     \u001b[1;32mif\u001b[0m \u001b[0mself\u001b[0m\u001b[1;33m.\u001b[0m\u001b[0muse_bias\u001b[0m\u001b[1;33m:\u001b[0m\u001b[1;33m\u001b[0m\u001b[1;33m\u001b[0m\u001b[0m\n\u001b[1;32m-> 1144\u001b[1;33m       \u001b[0moutputs\u001b[0m \u001b[1;33m=\u001b[0m \u001b[0mnn\u001b[0m\u001b[1;33m.\u001b[0m\u001b[0mbias_add\u001b[0m\u001b[1;33m(\u001b[0m\u001b[0moutputs\u001b[0m\u001b[1;33m,\u001b[0m \u001b[0mself\u001b[0m\u001b[1;33m.\u001b[0m\u001b[0mbias\u001b[0m\u001b[1;33m)\u001b[0m\u001b[1;33m\u001b[0m\u001b[1;33m\u001b[0m\u001b[0m\n\u001b[0m\u001b[0;32m   1145\u001b[0m     \u001b[1;32mif\u001b[0m \u001b[0mself\u001b[0m\u001b[1;33m.\u001b[0m\u001b[0mactivation\u001b[0m \u001b[1;32mis\u001b[0m \u001b[1;32mnot\u001b[0m \u001b[1;32mNone\u001b[0m\u001b[1;33m:\u001b[0m\u001b[1;33m\u001b[0m\u001b[1;33m\u001b[0m\u001b[0m\n\u001b[0;32m   1146\u001b[0m       \u001b[1;32mreturn\u001b[0m \u001b[0mself\u001b[0m\u001b[1;33m.\u001b[0m\u001b[0mactivation\u001b[0m\u001b[1;33m(\u001b[0m\u001b[0moutputs\u001b[0m\u001b[1;33m)\u001b[0m  \u001b[1;31m# pylint: disable=not-callable\u001b[0m\u001b[1;33m\u001b[0m\u001b[1;33m\u001b[0m\u001b[0m\n",
            "\u001b[1;32m~\\anaconda3\\envs\\myenv\\lib\\site-packages\\tensorflow_core\\python\\ops\\nn_ops.py\u001b[0m in \u001b[0;36mbias_add\u001b[1;34m(value, bias, data_format, name)\u001b[0m\n\u001b[0;32m   2756\u001b[0m     \u001b[1;32melse\u001b[0m\u001b[1;33m:\u001b[0m\u001b[1;33m\u001b[0m\u001b[1;33m\u001b[0m\u001b[0m\n\u001b[0;32m   2757\u001b[0m       return gen_nn_ops.bias_add(\n\u001b[1;32m-> 2758\u001b[1;33m           value, bias, data_format=data_format, name=name)\n\u001b[0m\u001b[0;32m   2759\u001b[0m \u001b[1;33m\u001b[0m\u001b[0m\n\u001b[0;32m   2760\u001b[0m \u001b[1;33m\u001b[0m\u001b[0m\n",
            "\u001b[1;32m~\\anaconda3\\envs\\myenv\\lib\\site-packages\\tensorflow_core\\python\\ops\\gen_nn_ops.py\u001b[0m in \u001b[0;36mbias_add\u001b[1;34m(value, bias, data_format, name)\u001b[0m\n\u001b[0;32m    670\u001b[0m       _result = _pywrap_tensorflow.TFE_Py_FastPathExecute(\n\u001b[0;32m    671\u001b[0m         \u001b[0m_ctx\u001b[0m\u001b[1;33m.\u001b[0m\u001b[0m_context_handle\u001b[0m\u001b[1;33m,\u001b[0m \u001b[0mtld\u001b[0m\u001b[1;33m.\u001b[0m\u001b[0mdevice_name\u001b[0m\u001b[1;33m,\u001b[0m \u001b[1;34m\"BiasAdd\"\u001b[0m\u001b[1;33m,\u001b[0m \u001b[0mname\u001b[0m\u001b[1;33m,\u001b[0m\u001b[1;33m\u001b[0m\u001b[1;33m\u001b[0m\u001b[0m\n\u001b[1;32m--> 672\u001b[1;33m         tld.op_callbacks, value, bias, \"data_format\", data_format)\n\u001b[0m\u001b[0;32m    673\u001b[0m       \u001b[1;32mreturn\u001b[0m \u001b[0m_result\u001b[0m\u001b[1;33m\u001b[0m\u001b[1;33m\u001b[0m\u001b[0m\n\u001b[0;32m    674\u001b[0m     \u001b[1;32mexcept\u001b[0m \u001b[0m_core\u001b[0m\u001b[1;33m.\u001b[0m\u001b[0m_FallbackException\u001b[0m\u001b[1;33m:\u001b[0m\u001b[1;33m\u001b[0m\u001b[1;33m\u001b[0m\u001b[0m\n",
            "\u001b[1;31mKeyboardInterrupt\u001b[0m: "
          ]
        }
      ]
    },
    {
      "cell_type": "code",
      "metadata": {
        "id": "999db5b9",
        "outputId": "4066401a-32e8-422e-efdf-d6d8ad266d1a"
      },
      "source": [
        "plt.plot(scores)"
      ],
      "id": "999db5b9",
      "execution_count": null,
      "outputs": [
        {
          "output_type": "execute_result",
          "data": {
            "text/plain": [
              "[<matplotlib.lines.Line2D at 0x1bd9f190a48>]"
            ]
          },
          "metadata": {
            "tags": []
          },
          "execution_count": 8
        },
        {
          "output_type": "display_data",
          "data": {
            "image/png": "[encoded data removed]",
            "text/plain": [
              "<Figure size 432x288 with 1 Axes>"
            ]
          },
          "metadata": {
            "tags": [],
            "needs_background": "light"
          }
        }
      ]
    },
    {
      "cell_type": "code",
      "metadata": {
        "id": "0c0bec8f"
      },
      "source": [
        "#NICE"
      ],
      "id": "0c0bec8f",
      "execution_count": null,
      "outputs": []
    }
  ]
}