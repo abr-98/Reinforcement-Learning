{
  "nbformat": 4,
  "nbformat_minor": 0,
  "metadata": {
    "colab": {
      "name": "MDP_Policy_Enumeration.ipynb",
      "provenance": []
    },
    "kernelspec": {
      "name": "python3",
      "display_name": "Python 3"
    },
    "language_info": {
      "name": "python"
    }
  },
  "cells": [
    {
      "cell_type": "code",
      "metadata": {
        "id": "UDbpnUo950s0"
      },
      "source": [
        "### A MDP: ### Actions considered\n",
        "\n",
        "### MDP: {P,S,A,R,gamma}\n",
        "\n",
        "### MDP + policy = MRP\n",
        "\n",
        "### MRP does not include actions decision. For a particular state there is one action only which is fixed\n",
        "\n",
        "### MDP gives us the decision to choose an action at a particular state.\n",
        "\n",
        "### Policy is the final strategy that provides which action to take on which state\n",
        "\n",
        "### Once that is decided, For MDP also we get one fixed action for a state. \n",
        "### So it yields a MRP.\n",
        "\n",
        "### We detect how good a policy is by calculating the value fuuctions. More the value functions for the MRP formed by a \n",
        "### policy pi, better is the policy.\n"
      ],
      "execution_count": null,
      "outputs": []
    },
    {
      "cell_type": "markdown",
      "metadata": {
        "id": "WrE16mcTBv6U"
      },
      "source": [
        "### Problem"
      ]
    },
    {
      "cell_type": "code",
      "metadata": {
        "id": "-Dj3-I3qBvFk"
      },
      "source": [
        "import matplotlib.pyplot as plt\n",
        "import cv2"
      ],
      "execution_count": 1,
      "outputs": []
    },
    {
      "cell_type": "code",
      "metadata": {
        "colab": {
          "base_uri": "https://localhost:8080/",
          "height": 231
        },
        "id": "nO_h9k0XCG2E",
        "outputId": "13a3cbad-9434-430e-f20b-f5f95e0aecda"
      },
      "source": [
        "img=cv2.imread(\"MDP_Policy_iteration.png\")\n",
        "plt.figure(figsize = (10,10))\n",
        "plt.imshow(img)\n",
        "plt.show()"
      ],
      "execution_count": 3,
      "outputs": [
        {
          "output_type": "display_data",
          "data": {
            "image/png": "[encoded data removed]",
            "text/plain": [
              "<Figure size 720x720 with 1 Axes>"
            ]
          },
          "metadata": {
            "tags": [],
            "needs_background": "light"
          }
        }
      ]
    },
    {
      "cell_type": "markdown",
      "metadata": {
        "id": "DJU40qDsCmrx"
      },
      "source": [
        "### Formulation"
      ]
    },
    {
      "cell_type": "code",
      "metadata": {
        "id": "eNiV9wJPQbJw"
      },
      "source": [
        "import numpy as np\n"
      ],
      "execution_count": 5,
      "outputs": []
    },
    {
      "cell_type": "code",
      "metadata": {
        "id": "KE9B5sHKClw6"
      },
      "source": [
        "### How to represent an MDP by definition (P,S,A,R,gamma)"
      ],
      "execution_count": null,
      "outputs": []
    },
    {
      "cell_type": "code",
      "metadata": {
        "id": "pwfXFOayDGED"
      },
      "source": [
        "### Dimension for MDP: \n",
        "###            P: A x S x S\n",
        "###            R: A x S x 1\n",
        "\n",
        "### Dimension for MRP: \n",
        "###            P: S x S\n",
        "###            R: S x 1\n",
        "\n",
        "### So for every action we get a Transistion and a Reward Matrix. \n",
        "### For an action, the transition matrix represents the probability of transition to other states\n",
        "### if the agent takes that action at that particular state.\n",
        "\n",
        "\"\"\"\n",
        "[0,1,0,0,0,0],\n",
        "[0,1,0,0,0,0],\n",
        "[0,0,1,0,0,0],\n",
        "[0,0,0,0,1,0],\n",
        "[0,0,0,0,0,1],\n",
        "[0,0,0,0,0,1],\n",
        "\"\"\"\n",
        "\n",
        "### For example, for the above problem, the above given matrix is the transition matrix, under the action 0.\n",
        "\n",
        "### As we can see, if we take action 0 at state 0, we move to state 1. So, for the state 0, the above matrix \n",
        "### shows transition probability = 1 for state 1, under action 1 on state 0 and so on.\n",
        "\n",
        "### As there is a wall, action 0 on state 1, keeps the agent in the same state. So, in the second row of the \n",
        "### matrix it remains in 1\n",
        "\n",
        "### Similarly Reward matrix:\n",
        "\"\"\"\n",
        "[-1],\n",
        "[-1],\n",
        "[10],\n",
        "[-1],\n",
        "[-1],\n",
        "[-1]\n",
        "\"\"\"\n",
        "\n",
        "### If we take action 0 on state 0 we move to state 1, and the reward is -1. so, the reward value for state 0\n",
        "### under action 0 is -1. Similarly, if we take action 0 on state 2, there is no movement, so the agent stays \n",
        "### in state 2, the goal state, So the corresponding reward achieved is +10."
      ],
      "execution_count": null,
      "outputs": []
    },
    {
      "cell_type": "code",
      "metadata": {
        "id": "UlQ4qBoEQU42"
      },
      "source": [
        "P_tr=np.array([\n",
        "    [\n",
        "        [0,1,0,0,0,0],\n",
        "        [0,1,0,0,0,0],\n",
        "        [0,0,1,0,0,0],\n",
        "        [0,0,0,0,1,0],\n",
        "        [0,0,0,0,0,1],\n",
        "        [0,0,0,0,0,1],\n",
        "    ],\n",
        "    [\n",
        "        [0,0,0,1,0,0],\n",
        "        [0,1,0,0,0,0],\n",
        "        [0,0,0,0,0,1],\n",
        "        [0,0,0,1,0,0],\n",
        "        [0,0,0,0,1,0],\n",
        "        [0,0,0,0,0,1],\n",
        "    ],\n",
        "    [\n",
        "        [1,0,0,0,0,0],\n",
        "        [1,0,0,0,0,0],\n",
        "        [0,0,1,0,0,0],\n",
        "        [0,0,0,1,0,0],\n",
        "        [0,0,0,1,0,0],\n",
        "        [0,0,0,0,1,0],\n",
        "    ],\n",
        "    [\n",
        "        [1,0,0,0,0,0],\n",
        "        [0,1,0,0,0,0],\n",
        "        [0,0,1,0,0,0],\n",
        "        [1,0,0,0,0,0],\n",
        "        [0,0,0,0,1,0],\n",
        "        [0,0,1,0,0,0],\n",
        "    ],\n",
        "    \n",
        "])        ###  Transition matrix for each state under each action\n",
        "R_tr=np.array([\n",
        "    [\n",
        "        [-1],\n",
        "        [-1],\n",
        "        [10],\n",
        "        [-1],\n",
        "        [-1],\n",
        "        [-1]\n",
        "    ],\n",
        "    [\n",
        "        [-1],\n",
        "        [-1],\n",
        "        [-1],\n",
        "        [-1],\n",
        "        [-1],\n",
        "        [-1]\n",
        "    ],\n",
        "    [\n",
        "        [-1],\n",
        "        [-1],\n",
        "        [10],\n",
        "        [-1],\n",
        "        [-1],\n",
        "        [-1]\n",
        "    ],\n",
        "    [\n",
        "        [-1],\n",
        "        [-1],\n",
        "        [-1],\n",
        "        [-1],\n",
        "        [-1],\n",
        "        [10]\n",
        "    ],\n",
        "])      ###  Reward matrix for each state under each action\n",
        "\n",
        "gamma=0.9      ### Gamma\n",
        "\n",
        "actions=[0,1,2,3]     ### Action set\n",
        "states=[0,1,2,3,4,5]      ###  State space\n"
      ],
      "execution_count": 6,
      "outputs": []
    },
    {
      "cell_type": "markdown",
      "metadata": {
        "id": "_pyuZaJE7urz"
      },
      "source": [
        "### Policy Enumeration"
      ]
    },
    {
      "cell_type": "code",
      "metadata": {
        "id": "rRblQxFq7z3U"
      },
      "source": [
        "### Policy Enumeration is a naive approach\n",
        "\n",
        "### It consists of generating all the possible policies, and enumerating through them all\n",
        "### to find the best policy, by comparing the value functions of the MRPs formed by their corresponding \n",
        "### Policies.\n"
      ],
      "execution_count": null,
      "outputs": []
    },
    {
      "cell_type": "code",
      "metadata": {
        "id": "nFIPo-VoZJuO"
      },
      "source": [
        "### Obtaining the MRP:\n",
        "### As we know, we need an MRP to obtain a value funtion, and MDP + policy = MRP \n",
        "\n",
        "### Devise a policy: \n",
        "\n",
        "### ex: [1,2,3,1,3,2], is a policy as it has an action for each step.\n",
        "\n",
        "### So, we first obtain the tranisition matrix, corresponding to all the action in our poicy\n",
        "### We can find it as:\n",
        "\n",
        "### P_tr[policy,:,:]\n",
        "\n",
        "\"\"\"array([[[0, 0, 0, 1, 0, 0],\n",
        "        [0, 1, 0, 0, 0, 0],\n",
        "        [0, 0, 0, 0, 0, 1],\n",
        "        [0, 0, 0, 1, 0, 0],\n",
        "        [0, 0, 0, 0, 1, 0],\n",
        "        [0, 0, 0, 0, 0, 1]],\n",
        "\n",
        "       [[1, 0, 0, 0, 0, 0],\n",
        "        [1, 0, 0, 0, 0, 0],\n",
        "        [0, 0, 1, 0, 0, 0],\n",
        "        [0, 0, 0, 1, 0, 0],\n",
        "        [0, 0, 0, 1, 0, 0],\n",
        "        [0, 0, 0, 0, 1, 0]],\n",
        "\n",
        "       [[1, 0, 0, 0, 0, 0],\n",
        "        [0, 1, 0, 0, 0, 0],\n",
        "        [0, 0, 1, 0, 0, 0],\n",
        "        [1, 0, 0, 0, 0, 0],\n",
        "        [0, 0, 0, 0, 1, 0],\n",
        "        [0, 0, 1, 0, 0, 0]],\n",
        "\n",
        "       [[0, 0, 0, 1, 0, 0],\n",
        "        [0, 1, 0, 0, 0, 0],\n",
        "        [0, 0, 0, 0, 0, 1],\n",
        "        [0, 0, 0, 1, 0, 0],\n",
        "        [0, 0, 0, 0, 1, 0],\n",
        "        [0, 0, 0, 0, 0, 1]],\n",
        "\n",
        "       [[1, 0, 0, 0, 0, 0],\n",
        "        [0, 1, 0, 0, 0, 0],\n",
        "        [0, 0, 1, 0, 0, 0],\n",
        "        [1, 0, 0, 0, 0, 0],\n",
        "        [0, 0, 0, 0, 1, 0],\n",
        "        [0, 0, 1, 0, 0, 0]],\n",
        "\n",
        "       [[1, 0, 0, 0, 0, 0],\n",
        "        [1, 0, 0, 0, 0, 0],\n",
        "        [0, 0, 1, 0, 0, 0],\n",
        "        [0, 0, 0, 1, 0, 0],\n",
        "        [0, 0, 0, 1, 0, 0],\n",
        "        [0, 0, 0, 0, 1, 0]]])\n",
        "\"\"\"\n",
        "\n",
        "## It gives the above result. It represents the transition matrix for each action in policy\n",
        "\n",
        "### But for an action, we only need the transition vector for that particular state, on which the action is \n",
        "### being taken. So, from the first transition matrix, we only need the 1st row, as it is the action on state 0\n",
        "\n",
        "### P_tr[policy,states,:] gives us the actual required MRP defn.\n",
        "\"\"\"\n",
        "array([[0, 0, 0, 1, 0, 0],\n",
        "       [1, 0, 0, 0, 0, 0],\n",
        "       [0, 0, 1, 0, 0, 0],\n",
        "       [0, 0, 0, 1, 0, 0],\n",
        "       [0, 0, 0, 0, 1, 0],\n",
        "       [0, 0, 0, 0, 1, 0]])\n",
        "       \"\"\"\n",
        "\n",
        "### The above is the MRP formed from the MDP under policy pi\n",
        "\n",
        "### Similarly, we obtain the reward for the MRP under policy pi.\n"
      ],
      "execution_count": 23,
      "outputs": []
    },
    {
      "cell_type": "code",
      "metadata": {
        "id": "jld2C1fUYLUl"
      },
      "source": [
        "import itertools"
      ],
      "execution_count": 29,
      "outputs": []
    },
    {
      "cell_type": "code",
      "metadata": {
        "id": "0DmRCz7jipxD"
      },
      "source": [
        "def generate_possible_policies(states,actions):   ### Generating all possible policies\n",
        "  policies=list(itertools.product(actions,repeat=len(states)))  ### Using permutations\n",
        "  return policies"
      ],
      "execution_count": 30,
      "outputs": []
    },
    {
      "cell_type": "code",
      "metadata": {
        "id": "U2aZvwpNjMA4"
      },
      "source": [
        "def obtain_value(policy,Transition_matrix,Reward_matrix,gamma,states):\n",
        "  Trans_mat_MRP=Transition_matrix[policy,states,:]\n",
        "  Rewards_mat_MRP=Reward_matrix[policy,states,:]\n",
        "  ### Extracting the MRP from the MDP on the particular policy\n",
        "\n",
        "  Identity=np.identity(Trans_mat_MRP.shape[0])\n",
        "  Value_func= np.matmul(np.matrix(Identity - gamma*Trans_mat_MRP).I,Rewards_mat_MRP).sum()\n",
        "  ### Value function calculated using analytical method\n",
        "\n",
        "  return Value_func\n"
      ],
      "execution_count": 37,
      "outputs": []
    },
    {
      "cell_type": "code",
      "metadata": {
        "id": "TRge1-QHn5GV"
      },
      "source": [
        "def get_best_policy(actions,states,Transition_Matrix,Reward_Matrix,gamma):\n",
        "\n",
        "  policies=generate_possible_policies(states,actions) ### Generating all the policies\n",
        "  results=[] ### To store the policies and the corresponding value \n",
        "\n",
        "  for policy in policies:\n",
        "\n",
        "    ### Enumerating through all the policies and generate value function for each policy.\n",
        "    results.append((policy,obtain_value(policy,Transition_Matrix,Reward_Matrix,gamma,states)))\n",
        "\n",
        "  sorted_policies=sorted(results,key=lambda e: e[1])\n",
        "  ### Sorting the results on the basis of value from lowest to highest.\n",
        "\n",
        "  best_policy=sorted_policies[-1]  ### Accessing last one with highest value\n",
        "\n",
        "  return best_policy,results\n"
      ],
      "execution_count": 38,
      "outputs": []
    },
    {
      "cell_type": "code",
      "metadata": {
        "id": "6vEWr2nlsx49"
      },
      "source": [
        "best_policy,results=get_best_policy(actions,states,P_tr,R_tr,gamma)"
      ],
      "execution_count": 39,
      "outputs": []
    },
    {
      "cell_type": "code",
      "metadata": {
        "colab": {
          "base_uri": "https://localhost:8080/"
        },
        "id": "mTS3dvhbs-Zu",
        "outputId": "adde93a1-2b93-4c31-f0eb-591e49c0f119"
      },
      "source": [
        "best_policy"
      ],
      "execution_count": 40,
      "outputs": [
        {
          "output_type": "execute_result",
          "data": {
            "text/plain": [
              "((1, 2, 2, 0, 0, 3), 500.46100000000007)"
            ]
          },
          "metadata": {
            "tags": []
          },
          "execution_count": 40
        }
      ]
    },
    {
      "cell_type": "code",
      "metadata": {
        "id": "gnzLrXcutI9B"
      },
      "source": [
        "### So the above is the best found policy."
      ],
      "execution_count": null,
      "outputs": []
    },
    {
      "cell_type": "code",
      "metadata": {
        "colab": {
          "base_uri": "https://localhost:8080/",
          "height": 309
        },
        "id": "jV1LdfzitRuK",
        "outputId": "93792eda-8ee0-4346-b96a-412a434a5f74"
      },
      "source": [
        "fig=plt.figure(figsize=(15,5))\n",
        "ax=fig.add_subplot(111)\n",
        "plt.plot([i for i,e in enumerate(results)],[e[1] for e in results])"
      ],
      "execution_count": 41,
      "outputs": [
        {
          "output_type": "execute_result",
          "data": {
            "text/plain": [
              "[<matplotlib.lines.Line2D at 0x7f1864bc69d0>]"
            ]
          },
          "metadata": {
            "tags": []
          },
          "execution_count": 41
        },
        {
          "output_type": "display_data",
          "data": {
            "image/png": "[encoded data removed]",
            "text/plain": [
              "<Figure size 1080x360 with 1 Axes>"
            ]
          },
          "metadata": {
            "tags": [],
            "needs_background": "light"
          }
        }
      ]
    },
    {
      "cell_type": "code",
      "metadata": {
        "id": "FOkk9EKjtUAS"
      },
      "source": [
        "### The above is the plot \n",
        "### WE can see the highest was achieved at around 1200th policy. But still we had to test them all."
      ],
      "execution_count": null,
      "outputs": []
    }
  ]
}