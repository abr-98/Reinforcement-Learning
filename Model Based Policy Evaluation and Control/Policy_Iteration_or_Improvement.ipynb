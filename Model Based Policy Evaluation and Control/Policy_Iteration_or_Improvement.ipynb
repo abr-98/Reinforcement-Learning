{
  "nbformat": 4,
  "nbformat_minor": 0,
  "metadata": {
    "colab": {
      "name": "Policy Iteration or Improvement.ipynb",
      "provenance": []
    },
    "kernelspec": {
      "name": "python3",
      "display_name": "Python 3"
    },
    "language_info": {
      "name": "python"
    }
  },
  "cells": [
    {
      "cell_type": "code",
      "metadata": {
        "id": "T1Z88v7gv7UB"
      },
      "source": [
        "### Policy enumeration takes into consideration all the posible policies, then find their value functions \n",
        "### For each and then compare each of them to find the best policy.\n",
        "\n",
        "### This takes a huge amount of time, and in case of large state or action space, the combinations might explode\n",
        "\n",
        "### Again as we have already seen, if we find the best policy early also, we need to go through all the policies\n",
        "\n",
        "### For such cases, we introduce a policy improvement, or policy iteration method. \n",
        "\n",
        "### This method tunes the policy in such a that confirms monotonic increase in the value function.\n",
        "\n",
        "### When the value function converges, or is not increased any further, we select the policy of that moment \n",
        "### as the optimal policy.\n",
        "\n",
        "### In order to achieve this a Q function or a state-action value function is established.\n",
        "\n",
        "### As value function gave the expectation of rewards from a state, state-action value function\n",
        "### provides the expectation of rewards for an action at a particular state\n",
        "\n",
        "### It is given by: Q(s,a)\n",
        "\n",
        "### For every state, the expectation of future rewards for all the actions are calculated, and the action with the \n",
        "### maximum expected return is selected as the action for that given state.\n",
        "\n",
        "### The theorem states, if we consider the max return as the action for the state, the new policy must be better or same \n",
        "### as the previous one.\n"
      ],
      "execution_count": 6,
      "outputs": []
    },
    {
      "cell_type": "markdown",
      "metadata": {
        "id": "qYzlZXIZyr9e"
      },
      "source": [
        "### Problem"
      ]
    },
    {
      "cell_type": "code",
      "metadata": {
        "id": "7iW5me_UyrYw"
      },
      "source": [
        "import matplotlib.pyplot as plt\n",
        "import cv2"
      ],
      "execution_count": 7,
      "outputs": []
    },
    {
      "cell_type": "code",
      "metadata": {
        "colab": {
          "base_uri": "https://localhost:8080/",
          "height": 231
        },
        "id": "7ewXM-R-ypqw",
        "outputId": "463dd771-a684-4135-d654-6be06a4ced34"
      },
      "source": [
        "img=cv2.imread(\"MDP_Policy_iteration.png\")\n",
        "plt.figure(figsize = (10,10))\n",
        "plt.imshow(img)\n",
        "plt.show()"
      ],
      "execution_count": 8,
      "outputs": [
        {
          "output_type": "display_data",
          "data": {
            "image/png": "[encoded data removed]",
            "text/plain": [
              "<Figure size 720x720 with 1 Axes>"
            ]
          },
          "metadata": {
            "tags": [],
            "needs_background": "light"
          }
        }
      ]
    },
    {
      "cell_type": "markdown",
      "metadata": {
        "id": "BNh10ANy66ax"
      },
      "source": [
        "### Formulation"
      ]
    },
    {
      "cell_type": "code",
      "metadata": {
        "id": "-YtLhJaNy2q-"
      },
      "source": [
        "import numpy as np"
      ],
      "execution_count": 9,
      "outputs": []
    },
    {
      "cell_type": "code",
      "metadata": {
        "id": "tqP4N3t19aJz"
      },
      "source": [
        "### The formulation of MDP is same as in policy enumeration\n",
        "\n",
        "### R -> A x S x 1 \n",
        "### P -> A x S x S\n",
        "### Q -> A x S x 1\n",
        "\n",
        "### Where value funcion V -> S x 1\n",
        "\n",
        "### Q = R_tr + gamma*P*V\n",
        "\n",
        "### (A x S x S) x (S x 1) = (A x S x 1)->Q\n",
        "\n",
        "### So, the Q(s,a) contains the expectation of future function for all states under an action for all actions. Then \n",
        "### we select the best action having the maximum value for that state. \n",
        "\n",
        "### for V we take the maximum on the action axis, so the value for that state is the value\n",
        "### corresponding to the maximum value for any action on that state. And the policy will have the\n",
        "### action that produces the maximum value."
      ],
      "execution_count": 10,
      "outputs": []
    },
    {
      "cell_type": "code",
      "metadata": {
        "id": "b3080s_BQGdw"
      },
      "source": [
        "### V_pi(s)= r(s,pi(s)) +  gamma*Sum(P(s'|s) x V_pi(s')) : Bellman backup equation for a particular policy"
      ],
      "execution_count": null,
      "outputs": []
    },
    {
      "cell_type": "markdown",
      "metadata": {
        "id": "y04gRK9Bvtjo"
      },
      "source": [
        "### Policy Iteration"
      ]
    },
    {
      "cell_type": "markdown",
      "metadata": {
        "id": "b4gnYu39D6cx"
      },
      "source": [
        "#### Deterministic Approach"
      ]
    },
    {
      "cell_type": "code",
      "metadata": {
        "id": "5UV73kGlxgGq"
      },
      "source": [
        "import copy"
      ],
      "execution_count": 12,
      "outputs": []
    },
    {
      "cell_type": "code",
      "metadata": {
        "id": "G1-7CJVuurYR"
      },
      "source": [
        "def get_policy(Transition_Matrix,Reward_Matrix,gamma,states,epsilon=0.001):\n",
        "\n",
        "  V_curr=np.zeros((len(states),1))\n",
        "  V_prev=np.ones((len(states),1))\n",
        "\n",
        "  ### Initializing value functions \n",
        "\n",
        "  log=[]\n",
        "\n",
        "  while (((V_curr-V_prev)**2).sum())**0.5>epsilon:    ### Using L2 norm for checking for convergence\n",
        "    Q = Reward_Matrix + gamma * np.matmul(Transition_Matrix,V_curr)        ### Finding state-action value Q(s,a)\n",
        "    V_prev=copy.deepcopy(V_curr)\n",
        "    V_curr=np.max(Q,axis=0)                      ### Updating value function with the max value of Q, on axis 0 or actions axis\n",
        "    policy=np.argmax(Q,axis=0)                  ### Updating policy similar to as above\n",
        "    log.append((policy.flatten(),V_curr.sum()))   ### Logging (policy,corresponding value function)\n",
        "\n",
        "  best_policy=sorted(log, key=lambda e: e[1])[-1]     ### Obtaining the best policy by sorting the log based on value function\n",
        "\n",
        "  return best_policy,log\n"
      ],
      "execution_count": 29,
      "outputs": []
    },
    {
      "cell_type": "code",
      "metadata": {
        "id": "_U0utZhqCeHM"
      },
      "source": [
        "#### The original algorithm  has a different convergence condition. \n",
        "\n",
        "### it convergence when the policy changes no more. So instead of comparing the value \n",
        "### functions from two steps, we compare the policies of two consecutive steps\n",
        "### If no change: convergence achieved. But it procuces suboptimal solution and so\n",
        "### value based condition works better.  "
      ],
      "execution_count": 34,
      "outputs": []
    },
    {
      "cell_type": "code",
      "metadata": {
        "id": "BHz0Nr6AyMoq"
      },
      "source": [
        "P_tr=np.array([\n",
        "    [\n",
        "        [0,1,0,0,0,0],\n",
        "        [0,1,0,0,0,0],\n",
        "        [0,0,1,0,0,0],\n",
        "        [0,0,0,0,1,0],\n",
        "        [0,0,0,0,0,1],\n",
        "        [0,0,0,0,0,1],\n",
        "    ],\n",
        "    [\n",
        "        [0,0,0,1,0,0],\n",
        "        [0,1,0,0,0,0],\n",
        "        [0,0,0,0,0,1],\n",
        "        [0,0,0,1,0,0],\n",
        "        [0,0,0,0,1,0],\n",
        "        [0,0,0,0,0,1],\n",
        "    ],\n",
        "    [\n",
        "        [1,0,0,0,0,0],\n",
        "        [1,0,0,0,0,0],\n",
        "        [0,0,1,0,0,0],\n",
        "        [0,0,0,1,0,0],\n",
        "        [0,0,0,1,0,0],\n",
        "        [0,0,0,0,1,0],\n",
        "    ],\n",
        "    [\n",
        "        [1,0,0,0,0,0],\n",
        "        [0,1,0,0,0,0],\n",
        "        [0,0,1,0,0,0],\n",
        "        [1,0,0,0,0,0],\n",
        "        [0,0,0,0,1,0],\n",
        "        [0,0,1,0,0,0],\n",
        "    ],\n",
        "\n",
        "])        ### Transition Dynamics\n",
        "\n",
        "R_tr=np.array([\n",
        "    [\n",
        "        [-1],\n",
        "        [-1],\n",
        "        [10],\n",
        "        [-1],\n",
        "        [-1],\n",
        "        [-1]\n",
        "    ],\n",
        "    [\n",
        "        [-1],\n",
        "        [-1],\n",
        "        [-1],\n",
        "        [-1],\n",
        "        [-1],\n",
        "        [-1]\n",
        "    ],\n",
        "    [\n",
        "        [-1],\n",
        "        [-1],\n",
        "        [10],\n",
        "        [-1],\n",
        "        [-1],\n",
        "        [-1]\n",
        "    ],\n",
        "    [\n",
        "        [-1],\n",
        "        [-1],\n",
        "        [-1],\n",
        "        [-1],\n",
        "        [-1],\n",
        "        [10]\n",
        "    ],\n",
        "])    ### Reward Dynamics\n",
        "gamma=0.9\n",
        "actions=[0,1,2,3]\n",
        "states=[0,1,2,3,4,5]\n"
      ],
      "execution_count": 30,
      "outputs": []
    },
    {
      "cell_type": "code",
      "metadata": {
        "id": "ayu9oVkryVSL"
      },
      "source": [
        "best_policy,log=get_policy(P_tr,R_tr,gamma,states)  ### Obtaining the best policy "
      ],
      "execution_count": 31,
      "outputs": []
    },
    {
      "cell_type": "code",
      "metadata": {
        "colab": {
          "base_uri": "https://localhost:8080/"
        },
        "id": "teJYvAZJyfrp",
        "outputId": "be692e08-feb7-49c7-edbf-4393accea482"
      },
      "source": [
        "best_policy"
      ],
      "execution_count": 32,
      "outputs": [
        {
          "output_type": "execute_result",
          "data": {
            "text/plain": [
              "(array([1, 2, 0, 0, 0, 3]), 500.43913876634764)"
            ]
          },
          "metadata": {
            "tags": []
          },
          "execution_count": 32
        }
      ]
    },
    {
      "cell_type": "code",
      "metadata": {
        "id": "IeYhUMn0zDXg"
      },
      "source": [
        "### convergence plot: We can see the policy is obtained after 85 epochs only."
      ],
      "execution_count": null,
      "outputs": []
    },
    {
      "cell_type": "code",
      "metadata": {
        "colab": {
          "base_uri": "https://localhost:8080/",
          "height": 308
        },
        "id": "ASO4KQRuywRn",
        "outputId": "4993b602-bcbe-41d3-d86c-d607dceaa719"
      },
      "source": [
        "fig=plt.figure(figsize=(15,5))\n",
        "ax=fig.add_subplot(111)\n",
        "plt.plot([i for i,e in enumerate(log)],[e[1] for e in log])"
      ],
      "execution_count": 33,
      "outputs": [
        {
          "output_type": "execute_result",
          "data": {
            "text/plain": [
              "[<matplotlib.lines.Line2D at 0x7f4f0bce3810>]"
            ]
          },
          "metadata": {
            "tags": []
          },
          "execution_count": 33
        },
        {
          "output_type": "display_data",
          "data": {
            "image/png": "[encoded data removed]",
            "text/plain": [
              "<Figure size 1080x360 with 1 Axes>"
            ]
          },
          "metadata": {
            "tags": [],
            "needs_background": "light"
          }
        }
      ]
    },
    {
      "cell_type": "markdown",
      "metadata": {
        "id": "9MwuQoo5FFBL"
      },
      "source": [
        "#### Probabilistic Approach"
      ]
    },
    {
      "cell_type": "code",
      "metadata": {
        "id": "MtMOHhMBzAfk"
      },
      "source": [
        "### In the above case, we have consider only deterministic transition matrix but the transtions\n",
        "### can be probabilistic too. That is on taking an action on a state, the state St+1 is reached \n",
        "### sampling from a probabilistic distribution.\n",
        "\n",
        "### So for the case, the transition dynamics looks like:\n",
        "\"\"\"\n",
        "[0.3 0.4 0.3]\n",
        "[0.5 0.2 0.3]\n",
        "[0.6 0.1 0.3]\n",
        "\"\"\"\n",
        "\n",
        "#### So to get the next state we sample based on this distribution.\n",
        "\n",
        "### In such cases, we can not use max or argmax as, for such cases the policy is for each state,\n",
        "### we obtain the probability distribution of the possible action, and we sample from the distribution \n",
        "### to get the action at that state.\n",
        "\n",
        "## we obtain policy as:\n",
        "\"\"\"\n",
        "(array([[2.37219334e-07, 9.99344712e-01, 3.27525410e-04, 3.27525410e-04],\n",
        "        [7.22707326e-04, 7.22707326e-04, 9.97831878e-01, 7.22707326e-04],\n",
        "        [4.99991650e-01, 8.34933053e-06, 4.99991650e-01, 8.35071094e-06],\n",
        "        [9.99730480e-01, 1.34737976e-04, 1.34737976e-04, 4.41590476e-08],\n",
        "        [9.99899725e-01, 5.01339576e-05, 6.75676905e-09, 5.01339576e-05],\n",
        "        [1.66983822e-05, 1.66983822e-05, 8.37239942e-10, 9.99966602e-01]]),\n",
        " 500.4152944655599)\n",
        "\"\"\"\n",
        "\n",
        "### For all 6 steps, we get a probabilty distribution of all the possible 4 actions\n",
        "\n",
        "### We use softmax function in place of argmax.\n",
        "\n",
        "### Modification in code:\n",
        "\n",
        "## pi=((np.e**Q)/np.sum(np.e**Q,axis=0))  ## Policy update\n",
        "## V=np.multiply(((np.e**Q)/np.sum(np.e**Q,axis=0)),Q).sum(axis=0)  ## Value function update"
      ],
      "execution_count": null,
      "outputs": []
    },
    {
      "cell_type": "code",
      "metadata": {
        "id": "KztVMsvGw23e"
      },
      "source": [
        ""
      ],
      "execution_count": null,
      "outputs": []
    }
  ]
}